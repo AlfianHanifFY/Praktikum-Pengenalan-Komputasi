{
 "cells": [
  {
   "cell_type": "code",
   "execution_count": 1,
   "metadata": {},
   "outputs": [],
   "source": [
    "# nim/ nama : Alfian Hanif Fitria Yustanto /19623281\n",
    "# tanggal : 16 November 2023\n",
    "# Deskripsi : Program mengolah data dengan kondisi tertentu"
   ]
  },
  {
   "cell_type": "code",
   "execution_count": 2,
   "metadata": {},
   "outputs": [],
   "source": [
    "import pandas as pd\n",
    "\n",
    "df = pd.read_csv(\"P05-01.csv\")"
   ]
  },
  {
   "cell_type": "code",
   "execution_count": 3,
   "metadata": {},
   "outputs": [
    {
     "name": "stdout",
     "output_type": "stream",
     "text": [
      "0\n"
     ]
    }
   ],
   "source": [
    "\n",
    "data =df.loc[(df[\"Gender\"] == \"F\") & (df[\"Attrition_Flag\"] == \"Attritied Customer\")]\n",
    "\n",
    "print(len(data))"
   ]
  },
  {
   "cell_type": "code",
   "execution_count": 4,
   "metadata": {},
   "outputs": [
    {
     "name": "stdout",
     "output_type": "stream",
     "text": [
      "3        769911858\n",
      "8        710930508\n",
      "18       806160108\n",
      "32       709029408\n",
      "42       773146383\n",
      "           ...    \n",
      "10071    713281833\n",
      "10078    709398708\n",
      "10079    715090008\n",
      "10113    713733633\n",
      "10119    716893683\n",
      "Name: CLIENTNUM, Length: 508, dtype: int64\n"
     ]
    }
   ],
   "source": [
    "data = df.loc[df[\"Total_Revolving_Bal\"] == df[\"Total_Revolving_Bal\"].max()]\n",
    "\n",
    "print(data[\"CLIENTNUM\"])"
   ]
  },
  {
   "cell_type": "code",
   "execution_count": 5,
   "metadata": {},
   "outputs": [
    {
     "name": "stdout",
     "output_type": "stream",
     "text": [
      "949\n"
     ]
    }
   ],
   "source": [
    "data = df.loc[(df[\"Education_Level\"] == \"High School\") & (df[\"Marital_Status\"] == \"Married\")]\n",
    "print(len(data))"
   ]
  },
  {
   "cell_type": "code",
   "execution_count": 6,
   "metadata": {},
   "outputs": [
    {
     "name": "stdout",
     "output_type": "stream",
     "text": [
      "Card_Category\n",
      "Blue        526\n",
      "Silver      121\n",
      "Gold         32\n",
      "Platinum      8\n",
      "Name: count, dtype: int64\n"
     ]
    }
   ],
   "source": [
    "data = df.loc[(df[\"Total_Trans_Ct\"] >= 100)]\n",
    "\n",
    "print(data[\"Card_Category\"].value_counts())"
   ]
  },
  {
   "cell_type": "code",
   "execution_count": 7,
   "metadata": {},
   "outputs": [
    {
     "name": "stdout",
     "output_type": "stream",
     "text": [
      "      CLIENTNUM     Attrition_Flag  Customer_Age Gender  Dependent_count  \\\n",
      "9295  719324658  Existing Customer            27      M                0   \n",
      "1381  720497958  Existing Customer            29      M                1   \n",
      "1889  789760233  Existing Customer            29      M                0   \n",
      "1677  780374133  Existing Customer            29      M                1   \n",
      "9494  710262408  Existing Customer            29      M                1   \n",
      "...         ...                ...           ...    ...              ...   \n",
      "3274  819189108  Existing Customer            63      M                0   \n",
      "378   714819183  Existing Customer            63      M                1   \n",
      "1874  717648783  Existing Customer            63      M                2   \n",
      "5987  713037333  Existing Customer            63      M                1   \n",
      "2509  771649083  Existing Customer            63      M                0   \n",
      "\n",
      "     Education_Level Marital_Status Income_Category Card_Category  \\\n",
      "9295         College        Unknown    $80K - $120K        Silver   \n",
      "1381        Graduate        Married    $80K - $120K          Blue   \n",
      "1889         Unknown       Divorced    $80K - $120K          Blue   \n",
      "1677         College         Single    $80K - $120K          Blue   \n",
      "9494        Graduate        Married    $80K - $120K        Silver   \n",
      "...              ...            ...             ...           ...   \n",
      "3274         College         Single    $80K - $120K          Blue   \n",
      "378       Uneducated        Married    $80K - $120K          Blue   \n",
      "1874     High School        Married    $80K - $120K          Blue   \n",
      "5987        Graduate         Single    $80K - $120K          Blue   \n",
      "2509     High School        Married    $80K - $120K          Blue   \n",
      "\n",
      "      Months_on_book  Months_Inactive_12_mon  Credit_Limit  \\\n",
      "9295              19                       1       34516.0   \n",
      "1381              14                       3       14853.0   \n",
      "1889              14                       3        3544.0   \n",
      "1677              19                       3        7010.0   \n",
      "9494              36                       2       34516.0   \n",
      "...              ...                     ...           ...   \n",
      "3274              56                       2        9033.0   \n",
      "378               36                       2       24571.0   \n",
      "1874              51                       2        6922.0   \n",
      "5987              55                       1       21430.0   \n",
      "2509              51                       3       10257.0   \n",
      "\n",
      "      Total_Revolving_Bal  Total_Trans_Amt  Total_Trans_Ct  \\\n",
      "9295                 1131            14716             112   \n",
      "1381                    0             1800              41   \n",
      "1889                    0             2435              63   \n",
      "1677                 2103             2413              48   \n",
      "9494                 1666            13971             116   \n",
      "...                   ...              ...             ...   \n",
      "3274                    0             4456              85   \n",
      "378                  1955             1746              28   \n",
      "1874                 1704             1449              28   \n",
      "5987                    0             3561              57   \n",
      "2509                 1021             1508              30   \n",
      "\n",
      "      Avg_Utilization_Ratio  \n",
      "9295                  0.033  \n",
      "1381                  0.000  \n",
      "1889                  0.000  \n",
      "1677                  0.300  \n",
      "9494                  0.048  \n",
      "...                     ...  \n",
      "3274                  0.000  \n",
      "378                   0.080  \n",
      "1874                  0.246  \n",
      "5987                  0.000  \n",
      "2509                  0.100  \n",
      "\n",
      "[1535 rows x 16 columns]\n"
     ]
    }
   ],
   "source": [
    "data = df.sort_values([\"Customer_Age\"],ascending=1).loc[df[\"Income_Category\"] == \"$80K - $120K\"]\n",
    "\n",
    "print(data)"
   ]
  },
  {
   "cell_type": "code",
   "execution_count": null,
   "metadata": {},
   "outputs": [],
   "source": []
  }
 ],
 "metadata": {
  "kernelspec": {
   "display_name": "Python 3",
   "language": "python",
   "name": "python3"
  },
  "language_info": {
   "codemirror_mode": {
    "name": "ipython",
    "version": 3
   },
   "file_extension": ".py",
   "mimetype": "text/x-python",
   "name": "python",
   "nbconvert_exporter": "python",
   "pygments_lexer": "ipython3",
   "version": "3.9.0"
  }
 },
 "nbformat": 4,
 "nbformat_minor": 2
}
