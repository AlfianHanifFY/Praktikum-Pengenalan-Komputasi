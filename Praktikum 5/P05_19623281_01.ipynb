{
 "cells": [
  {
   "cell_type": "code",
   "execution_count": 9,
   "metadata": {},
   "outputs": [],
   "source": [
    "# nim/ nama : Alfian Hanif Fitria Yustanto /19623281\n",
    "# tanggal : 16 November 2023\n",
    "# Deskripsi : Program memngolah data\n"
   ]
  },
  {
   "cell_type": "code",
   "execution_count": 10,
   "metadata": {},
   "outputs": [],
   "source": [
    "import pandas as pd\n",
    "\n",
    "df = pd.read_csv(\"P05-01.csv\")\n"
   ]
  },
  {
   "cell_type": "code",
   "execution_count": 11,
   "metadata": {},
   "outputs": [
    {
     "name": "stdout",
     "output_type": "stream",
     "text": [
      "Card_Category\n",
      "Blue        9436\n",
      "Silver       555\n",
      "Gold         116\n",
      "Platinum      20\n",
      "Name: count, dtype: int64\n"
     ]
    }
   ],
   "source": [
    "#nomor 1\n",
    "#banyak data masing-masing tipe kartu\n",
    "\n",
    "print(df[\"Card_Category\"].value_counts())\n"
   ]
  },
  {
   "cell_type": "code",
   "execution_count": 12,
   "metadata": {},
   "outputs": [
    {
     "name": "stdout",
     "output_type": "stream",
     "text": [
      "8631.953698034955\n"
     ]
    }
   ],
   "source": [
    "#nomor 2\n",
    "# rata-rata nominal lsit kartu kredit\n",
    "\n",
    "print(df[\"Credit_Limit\"].mean())"
   ]
  },
  {
   "cell_type": "code",
   "execution_count": 13,
   "metadata": {},
   "outputs": [
    {
     "name": "stdout",
     "output_type": "stream",
     "text": [
      "      CLIENTNUM     Attrition_Flag  Customer_Age Gender  Dependent_count  \\\n",
      "9324  708163758  Existing Customer            41      M                3   \n",
      "9586  784868958  Existing Customer            56      F                1   \n",
      "9213  719413383  Existing Customer            32      M                1   \n",
      "9629  709015833  Existing Customer            42      M                2   \n",
      "9339  715728108  Existing Customer            27      F                0   \n",
      "\n",
      "     Education_Level Marital_Status Income_Category Card_Category  \\\n",
      "9324         Unknown        Married         $120K +          Blue   \n",
      "9586     High School        Married         Unknown          Blue   \n",
      "9213      Uneducated         Single     $60K - $80K        Silver   \n",
      "9629        Graduate         Single     $60K - $80K        Silver   \n",
      "9339        Graduate        Unknown  Less than $40K          Blue   \n",
      "\n",
      "      Months_on_book  Months_Inactive_12_mon  Credit_Limit  \\\n",
      "9324              33                       4       34516.0   \n",
      "9586              49                       2       17542.0   \n",
      "9213              36                       3       33711.0   \n",
      "9629              36                       3       34516.0   \n",
      "9339              36                       1        4548.0   \n",
      "\n",
      "      Total_Revolving_Bal  Total_Trans_Amt  Total_Trans_Ct  \\\n",
      "9324                  638            13085             139   \n",
      "9586                 2517            13939             138   \n",
      "9213                 1437            14880             134   \n",
      "9629                    0            12920             132   \n",
      "9339                 1450            14330             131   \n",
      "\n",
      "      Avg_Utilization_Ratio  \n",
      "9324                  0.018  \n",
      "9586                  0.143  \n",
      "9213                  0.043  \n",
      "9629                  0.000  \n",
      "9339                  0.319  \n"
     ]
    }
   ],
   "source": [
    "# nomor 3\n",
    "\n",
    "data = df.sort_values([\"Total_Trans_Ct\"], ascending= 0)\n",
    "print(data[:5])"
   ]
  },
  {
   "cell_type": "code",
   "execution_count": 14,
   "metadata": {},
   "outputs": [
    {
     "name": "stdout",
     "output_type": "stream",
     "text": [
      "       CLIENTNUM     Attrition_Flag  Customer_Age Gender  Dependent_count  \\\n",
      "6      810347208  Existing Customer            51      M                4   \n",
      "37     785432733  Existing Customer            42      F                4   \n",
      "303    779749908  Existing Customer            48      M                4   \n",
      "379    716455683  Existing Customer            40      F                3   \n",
      "523    827332983  Existing Customer            46      M                3   \n",
      "...          ...                ...           ...    ...              ...   \n",
      "10029  715268508  Existing Customer            42      M                3   \n",
      "10038  716850558  Existing Customer            48      M                4   \n",
      "10049  715713408  Existing Customer            55      M                2   \n",
      "10085  717714633  Existing Customer            49      M                3   \n",
      "10112  708564858  Attrited Customer            33      M                2   \n",
      "\n",
      "      Education_Level Marital_Status Income_Category Card_Category  \\\n",
      "6             Unknown        Married         $120K +          Gold   \n",
      "37        High School        Married  Less than $40K          Gold   \n",
      "303           College        Married     $60K - $80K          Gold   \n",
      "379       High School         Single  Less than $40K          Gold   \n",
      "523       High School         Single    $80K - $120K          Gold   \n",
      "...               ...            ...             ...           ...   \n",
      "10029        Graduate        Married     $40K - $60K          Gold   \n",
      "10038        Graduate        Unknown     $60K - $80K          Gold   \n",
      "10049        Graduate        Married  Less than $40K          Gold   \n",
      "10085      Uneducated        Married         $120K +          Gold   \n",
      "10112         College        Married         $120K +          Gold   \n",
      "\n",
      "       Months_on_book  Months_Inactive_12_mon  Credit_Limit  \\\n",
      "6                  46                       1       34516.0   \n",
      "37                 36                       3       15433.0   \n",
      "303                33                       2       34516.0   \n",
      "379                36                       2       15534.0   \n",
      "523                42                       2       34516.0   \n",
      "...               ...                     ...           ...   \n",
      "10029              36                       2       23981.0   \n",
      "10038              32                       1       34516.0   \n",
      "10049              46                       5       15987.0   \n",
      "10085              38                       3       14938.0   \n",
      "10112              20                       1       34516.0   \n",
      "\n",
      "       Total_Revolving_Bal  Total_Trans_Amt  Total_Trans_Ct  \\\n",
      "6                     2264             1330              31   \n",
      "37                       0              966              22   \n",
      "303                   2061             1350              32   \n",
      "379                    726             1279              28   \n",
      "523                   2113             1362              31   \n",
      "...                    ...              ...             ...   \n",
      "10029                 1399            14840             125   \n",
      "10038                 1285            15279             122   \n",
      "10049                    0            15853             117   \n",
      "10085                    0            15277             131   \n",
      "10112                    0             9338              73   \n",
      "\n",
      "       Avg_Utilization_Ratio  \n",
      "6                      0.066  \n",
      "37                     0.000  \n",
      "303                    0.060  \n",
      "379                    0.047  \n",
      "523                    0.061  \n",
      "...                      ...  \n",
      "10029                  0.058  \n",
      "10038                  0.037  \n",
      "10049                  0.000  \n",
      "10085                  0.000  \n",
      "10112                  0.000  \n",
      "\n",
      "[116 rows x 16 columns]\n"
     ]
    }
   ],
   "source": [
    "# nomor 4\n",
    "print(df.loc[df[\"Card_Category\"] == \"Gold\"])"
   ]
  },
  {
   "cell_type": "code",
   "execution_count": 15,
   "metadata": {},
   "outputs": [
    {
     "ename": "KeyError",
     "evalue": "'Customer_age'",
     "output_type": "error",
     "traceback": [
      "\u001b[1;31m---------------------------------------------------------------------------\u001b[0m",
      "\u001b[1;31mKeyError\u001b[0m                                  Traceback (most recent call last)",
      "File \u001b[1;32m~\\AppData\\Roaming\\Python\\Python39\\site-packages\\pandas\\core\\indexes\\base.py:3790\u001b[0m, in \u001b[0;36mIndex.get_loc\u001b[1;34m(self, key)\u001b[0m\n\u001b[0;32m   3789\u001b[0m \u001b[39mtry\u001b[39;00m:\n\u001b[1;32m-> 3790\u001b[0m     \u001b[39mreturn\u001b[39;00m \u001b[39mself\u001b[39;49m\u001b[39m.\u001b[39;49m_engine\u001b[39m.\u001b[39;49mget_loc(casted_key)\n\u001b[0;32m   3791\u001b[0m \u001b[39mexcept\u001b[39;00m \u001b[39mKeyError\u001b[39;00m \u001b[39mas\u001b[39;00m err:\n",
      "File \u001b[1;32mindex.pyx:152\u001b[0m, in \u001b[0;36mpandas._libs.index.IndexEngine.get_loc\u001b[1;34m()\u001b[0m\n",
      "File \u001b[1;32mindex.pyx:181\u001b[0m, in \u001b[0;36mpandas._libs.index.IndexEngine.get_loc\u001b[1;34m()\u001b[0m\n",
      "File \u001b[1;32mpandas\\_libs\\hashtable_class_helper.pxi:7080\u001b[0m, in \u001b[0;36mpandas._libs.hashtable.PyObjectHashTable.get_item\u001b[1;34m()\u001b[0m\n",
      "File \u001b[1;32mpandas\\_libs\\hashtable_class_helper.pxi:7088\u001b[0m, in \u001b[0;36mpandas._libs.hashtable.PyObjectHashTable.get_item\u001b[1;34m()\u001b[0m\n",
      "\u001b[1;31mKeyError\u001b[0m: 'Customer_age'",
      "\nThe above exception was the direct cause of the following exception:\n",
      "\u001b[1;31mKeyError\u001b[0m                                  Traceback (most recent call last)",
      "\u001b[1;32md:\\Alfi\\ITB\\pengkom\\Praktikum 5\\P05_19623281_01.ipynb Cell 7\u001b[0m line \u001b[0;36m3\n\u001b[0;32m      <a href='vscode-notebook-cell:/d%3A/Alfi/ITB/pengkom/Praktikum%205/P05_19623281_01.ipynb#W5sZmlsZQ%3D%3D?line=0'>1</a>\u001b[0m \u001b[39m#nomor 5\u001b[39;00m\n\u001b[1;32m----> <a href='vscode-notebook-cell:/d%3A/Alfi/ITB/pengkom/Praktikum%205/P05_19623281_01.ipynb#W5sZmlsZQ%3D%3D?line=2'>3</a>\u001b[0m df[\u001b[39m\"\u001b[39m\u001b[39mTotal_Trans_Amt\u001b[39m\u001b[39m\"\u001b[39m]\u001b[39m.\u001b[39mcorr(df[\u001b[39m\"\u001b[39;49m\u001b[39mCustomer_age\u001b[39;49m\u001b[39m\"\u001b[39;49m]\u001b[39m*\u001b[39m\u001b[39m12\u001b[39m)\n\u001b[0;32m      <a href='vscode-notebook-cell:/d%3A/Alfi/ITB/pengkom/Praktikum%205/P05_19623281_01.ipynb#W5sZmlsZQ%3D%3D?line=4'>5</a>\u001b[0m \u001b[39m#tidak berkorelasi\u001b[39;00m\n",
      "File \u001b[1;32m~\\AppData\\Roaming\\Python\\Python39\\site-packages\\pandas\\core\\frame.py:3893\u001b[0m, in \u001b[0;36mDataFrame.__getitem__\u001b[1;34m(self, key)\u001b[0m\n\u001b[0;32m   3891\u001b[0m \u001b[39mif\u001b[39;00m \u001b[39mself\u001b[39m\u001b[39m.\u001b[39mcolumns\u001b[39m.\u001b[39mnlevels \u001b[39m>\u001b[39m \u001b[39m1\u001b[39m:\n\u001b[0;32m   3892\u001b[0m     \u001b[39mreturn\u001b[39;00m \u001b[39mself\u001b[39m\u001b[39m.\u001b[39m_getitem_multilevel(key)\n\u001b[1;32m-> 3893\u001b[0m indexer \u001b[39m=\u001b[39m \u001b[39mself\u001b[39;49m\u001b[39m.\u001b[39;49mcolumns\u001b[39m.\u001b[39;49mget_loc(key)\n\u001b[0;32m   3894\u001b[0m \u001b[39mif\u001b[39;00m is_integer(indexer):\n\u001b[0;32m   3895\u001b[0m     indexer \u001b[39m=\u001b[39m [indexer]\n",
      "File \u001b[1;32m~\\AppData\\Roaming\\Python\\Python39\\site-packages\\pandas\\core\\indexes\\base.py:3797\u001b[0m, in \u001b[0;36mIndex.get_loc\u001b[1;34m(self, key)\u001b[0m\n\u001b[0;32m   3792\u001b[0m     \u001b[39mif\u001b[39;00m \u001b[39misinstance\u001b[39m(casted_key, \u001b[39mslice\u001b[39m) \u001b[39mor\u001b[39;00m (\n\u001b[0;32m   3793\u001b[0m         \u001b[39misinstance\u001b[39m(casted_key, abc\u001b[39m.\u001b[39mIterable)\n\u001b[0;32m   3794\u001b[0m         \u001b[39mand\u001b[39;00m \u001b[39many\u001b[39m(\u001b[39misinstance\u001b[39m(x, \u001b[39mslice\u001b[39m) \u001b[39mfor\u001b[39;00m x \u001b[39min\u001b[39;00m casted_key)\n\u001b[0;32m   3795\u001b[0m     ):\n\u001b[0;32m   3796\u001b[0m         \u001b[39mraise\u001b[39;00m InvalidIndexError(key)\n\u001b[1;32m-> 3797\u001b[0m     \u001b[39mraise\u001b[39;00m \u001b[39mKeyError\u001b[39;00m(key) \u001b[39mfrom\u001b[39;00m \u001b[39merr\u001b[39;00m\n\u001b[0;32m   3798\u001b[0m \u001b[39mexcept\u001b[39;00m \u001b[39mTypeError\u001b[39;00m:\n\u001b[0;32m   3799\u001b[0m     \u001b[39m# If we have a listlike key, _check_indexing_error will raise\u001b[39;00m\n\u001b[0;32m   3800\u001b[0m     \u001b[39m#  InvalidIndexError. Otherwise we fall through and re-raise\u001b[39;00m\n\u001b[0;32m   3801\u001b[0m     \u001b[39m#  the TypeError.\u001b[39;00m\n\u001b[0;32m   3802\u001b[0m     \u001b[39mself\u001b[39m\u001b[39m.\u001b[39m_check_indexing_error(key)\n",
      "\u001b[1;31mKeyError\u001b[0m: 'Customer_age'"
     ]
    }
   ],
   "source": [
    "#nomor 5\n",
    "\n",
    "df[\"Total_Trans_Amt\"].corr(df[\"Customer_Age\"]*12)\n",
    "\n",
    "#tidak berkorelasi"
   ]
  },
  {
   "cell_type": "code",
   "execution_count": null,
   "metadata": {},
   "outputs": [],
   "source": []
  }
 ],
 "metadata": {
  "kernelspec": {
   "display_name": "Python 3",
   "language": "python",
   "name": "python3"
  },
  "language_info": {
   "codemirror_mode": {
    "name": "ipython",
    "version": 3
   },
   "file_extension": ".py",
   "mimetype": "text/x-python",
   "name": "python",
   "nbconvert_exporter": "python",
   "pygments_lexer": "ipython3",
   "version": "3.9.0"
  }
 },
 "nbformat": 4,
 "nbformat_minor": 2
}
